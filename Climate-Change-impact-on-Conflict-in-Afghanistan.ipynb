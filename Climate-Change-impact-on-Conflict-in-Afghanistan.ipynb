{
 "cells": [
  {
   "cell_type": "code",
   "execution_count": 11,
   "metadata": {},
   "outputs": [],
   "source": [
    "import os\n",
    "os.chdir('C:/Users/vivek/OneDrive/Desktop/Rhombus Power')"
   ]
  },
  {
   "cell_type": "code",
   "execution_count": 1,
   "metadata": {
    "colab": {
     "base_uri": "https://localhost:8080/"
    },
    "id": "7XLjwpiNCYA0",
    "outputId": "fcc49fda-f582-4996-9025-0c7f38b6a985"
   },
   "outputs": [
    {
     "name": "stdout",
     "output_type": "stream",
     "text": [
      "Collecting netCDF4\n",
      "  Downloading netCDF4-1.5.5-cp37-cp37m-win_amd64.whl (3.1 MB)\n",
      "Collecting cftime\n",
      "  Downloading cftime-1.3.0-cp37-none-win_amd64.whl (199 kB)\n",
      "Requirement already satisfied: numpy>=1.9 in c:\\anaconda3\\lib\\site-packages (from netCDF4) (1.17.3)\n",
      "Installing collected packages: cftime, netCDF4\n",
      "Successfully installed cftime-1.3.0 netCDF4-1.5.5\n"
     ]
    },
    {
     "name": "stderr",
     "output_type": "stream",
     "text": [
      "WARNING: You are using pip version 20.1; however, version 20.3.1 is available.\n",
      "You should consider upgrading via the 'c:\\anaconda3\\python.exe -m pip install --upgrade pip' command.\n"
     ]
    }
   ],
   "source": [
    "!pip install netCDF4"
   ]
  },
  {
   "cell_type": "code",
   "execution_count": 2,
   "metadata": {
    "colab": {
     "base_uri": "https://localhost:8080/",
     "height": 17
    },
    "id": "9NwJsHbv5jGn",
    "outputId": "84a35c53-4ecf-421c-8125-f5d2bdb3d017"
   },
   "outputs": [
    {
     "data": {
      "text/html": [
       "        <script type=\"text/javascript\">\n",
       "        window.PlotlyConfig = {MathJaxConfig: 'local'};\n",
       "        if (window.MathJax) {MathJax.Hub.Config({SVG: {font: \"STIX-Web\"}});}\n",
       "        if (typeof require !== 'undefined') {\n",
       "        require.undef(\"plotly\");\n",
       "        requirejs.config({\n",
       "            paths: {\n",
       "                'plotly': ['https://cdn.plot.ly/plotly-latest.min']\n",
       "            }\n",
       "        });\n",
       "        require(['plotly'], function(Plotly) {\n",
       "            window._Plotly = Plotly;\n",
       "        });\n",
       "        }\n",
       "        </script>\n",
       "        "
      ]
     },
     "metadata": {},
     "output_type": "display_data"
    }
   ],
   "source": [
    "import numpy as np\n",
    "import pandas as pd\n",
    "import matplotlib.pyplot as plt\n",
    "import seaborn as sns\n",
    "\n",
    "from plotly.offline import init_notebook_mode, iplot\n",
    "init_notebook_mode(connected=True)\n",
    "import plotly.graph_objs as go\n",
    "import re\n",
    "from IPython.display import display\n",
    "%matplotlib inline\n",
    "\n",
    "\n",
    "import warnings\n",
    "warnings.filterwarnings('ignore')"
   ]
  },
  {
   "cell_type": "code",
   "execution_count": 3,
   "metadata": {
    "id": "gh4-nC6nCUij"
   },
   "outputs": [],
   "source": [
    "from netCDF4 import Dataset"
   ]
  },
  {
   "cell_type": "markdown",
   "metadata": {
    "id": "VAoXztMTEHaZ"
   },
   "source": [
    "# Question 1"
   ]
  },
  {
   "cell_type": "code",
   "execution_count": 22,
   "metadata": {
    "id": "GSDRvnKb7E1R"
   },
   "outputs": [],
   "source": [
    "np.random.seed(2020)"
   ]
  },
  {
   "cell_type": "code",
   "execution_count": 24,
   "metadata": {
    "id": "CrqlhPA_7E4m"
   },
   "outputs": [],
   "source": [
    "df=pd.read_excel('ged201.xlsx')"
   ]
  },
  {
   "cell_type": "code",
   "execution_count": 25,
   "metadata": {
    "colab": {
     "base_uri": "https://localhost:8080/",
     "height": 551
    },
    "id": "oR6Lcdg27E8R",
    "outputId": "481758ad-518b-4b02-da16-5303a104a076"
   },
   "outputs": [
    {
     "data": {
      "text/html": [
       "<div>\n",
       "<style scoped>\n",
       "    .dataframe tbody tr th:only-of-type {\n",
       "        vertical-align: middle;\n",
       "    }\n",
       "\n",
       "    .dataframe tbody tr th {\n",
       "        vertical-align: top;\n",
       "    }\n",
       "\n",
       "    .dataframe thead th {\n",
       "        text-align: right;\n",
       "    }\n",
       "</style>\n",
       "<table border=\"1\" class=\"dataframe\">\n",
       "  <thead>\n",
       "    <tr style=\"text-align: right;\">\n",
       "      <th></th>\n",
       "      <th>id</th>\n",
       "      <th>relid</th>\n",
       "      <th>year</th>\n",
       "      <th>active_year</th>\n",
       "      <th>code_status</th>\n",
       "      <th>type_of_violence</th>\n",
       "      <th>conflict_dset_id</th>\n",
       "      <th>conflict_new_id</th>\n",
       "      <th>conflict_name</th>\n",
       "      <th>dyad_dset_id</th>\n",
       "      <th>...</th>\n",
       "      <th>date_end</th>\n",
       "      <th>deaths_a</th>\n",
       "      <th>deaths_b</th>\n",
       "      <th>deaths_civilians</th>\n",
       "      <th>deaths_unknown</th>\n",
       "      <th>best</th>\n",
       "      <th>high</th>\n",
       "      <th>low</th>\n",
       "      <th>gwnoa</th>\n",
       "      <th>gwnob</th>\n",
       "    </tr>\n",
       "  </thead>\n",
       "  <tbody>\n",
       "    <tr>\n",
       "      <th>0</th>\n",
       "      <td>244657</td>\n",
       "      <td>IRQ-2017-1-524-322</td>\n",
       "      <td>2017</td>\n",
       "      <td>1</td>\n",
       "      <td>Clear</td>\n",
       "      <td>1</td>\n",
       "      <td>259</td>\n",
       "      <td>259</td>\n",
       "      <td>Iraq: Government</td>\n",
       "      <td>524</td>\n",
       "      <td>...</td>\n",
       "      <td>2017-07-31</td>\n",
       "      <td>0</td>\n",
       "      <td>4</td>\n",
       "      <td>0</td>\n",
       "      <td>2</td>\n",
       "      <td>6</td>\n",
       "      <td>6</td>\n",
       "      <td>6</td>\n",
       "      <td>645</td>\n",
       "      <td>NaN</td>\n",
       "    </tr>\n",
       "    <tr>\n",
       "      <th>1</th>\n",
       "      <td>132140</td>\n",
       "      <td>AFG-1989-1-411-2</td>\n",
       "      <td>1989</td>\n",
       "      <td>1</td>\n",
       "      <td>Clear</td>\n",
       "      <td>1</td>\n",
       "      <td>333</td>\n",
       "      <td>333</td>\n",
       "      <td>Afghanistan: Government</td>\n",
       "      <td>724</td>\n",
       "      <td>...</td>\n",
       "      <td>1989-01-13</td>\n",
       "      <td>6</td>\n",
       "      <td>0</td>\n",
       "      <td>0</td>\n",
       "      <td>0</td>\n",
       "      <td>6</td>\n",
       "      <td>6</td>\n",
       "      <td>6</td>\n",
       "      <td>700</td>\n",
       "      <td>NaN</td>\n",
       "    </tr>\n",
       "    <tr>\n",
       "      <th>2</th>\n",
       "      <td>130364</td>\n",
       "      <td>AFG-1989-1-411-37</td>\n",
       "      <td>1989</td>\n",
       "      <td>1</td>\n",
       "      <td>Clear</td>\n",
       "      <td>1</td>\n",
       "      <td>333</td>\n",
       "      <td>333</td>\n",
       "      <td>Afghanistan: Government</td>\n",
       "      <td>724</td>\n",
       "      <td>...</td>\n",
       "      <td>1989-01-18</td>\n",
       "      <td>0</td>\n",
       "      <td>0</td>\n",
       "      <td>0</td>\n",
       "      <td>4</td>\n",
       "      <td>4</td>\n",
       "      <td>4</td>\n",
       "      <td>0</td>\n",
       "      <td>700</td>\n",
       "      <td>NaN</td>\n",
       "    </tr>\n",
       "    <tr>\n",
       "      <th>3</th>\n",
       "      <td>130359</td>\n",
       "      <td>AFG-1989-1-411-4</td>\n",
       "      <td>1989</td>\n",
       "      <td>1</td>\n",
       "      <td>Clear</td>\n",
       "      <td>1</td>\n",
       "      <td>333</td>\n",
       "      <td>333</td>\n",
       "      <td>Afghanistan: Government</td>\n",
       "      <td>724</td>\n",
       "      <td>...</td>\n",
       "      <td>1989-01-24</td>\n",
       "      <td>0</td>\n",
       "      <td>0</td>\n",
       "      <td>0</td>\n",
       "      <td>600</td>\n",
       "      <td>600</td>\n",
       "      <td>600</td>\n",
       "      <td>600</td>\n",
       "      <td>700</td>\n",
       "      <td>NaN</td>\n",
       "    </tr>\n",
       "    <tr>\n",
       "      <th>4</th>\n",
       "      <td>133883</td>\n",
       "      <td>AFG-1989-1-411-39</td>\n",
       "      <td>1989</td>\n",
       "      <td>1</td>\n",
       "      <td>Clear</td>\n",
       "      <td>1</td>\n",
       "      <td>333</td>\n",
       "      <td>333</td>\n",
       "      <td>Afghanistan: Government</td>\n",
       "      <td>724</td>\n",
       "      <td>...</td>\n",
       "      <td>1989-02-05</td>\n",
       "      <td>0</td>\n",
       "      <td>0</td>\n",
       "      <td>0</td>\n",
       "      <td>2</td>\n",
       "      <td>2</td>\n",
       "      <td>2</td>\n",
       "      <td>0</td>\n",
       "      <td>700</td>\n",
       "      <td>NaN</td>\n",
       "    </tr>\n",
       "  </tbody>\n",
       "</table>\n",
       "<p>5 rows × 49 columns</p>\n",
       "</div>"
      ],
      "text/plain": [
       "       id               relid  year  active_year code_status  \\\n",
       "0  244657  IRQ-2017-1-524-322  2017            1       Clear   \n",
       "1  132140    AFG-1989-1-411-2  1989            1       Clear   \n",
       "2  130364   AFG-1989-1-411-37  1989            1       Clear   \n",
       "3  130359    AFG-1989-1-411-4  1989            1       Clear   \n",
       "4  133883   AFG-1989-1-411-39  1989            1       Clear   \n",
       "\n",
       "   type_of_violence  conflict_dset_id  conflict_new_id  \\\n",
       "0                 1               259              259   \n",
       "1                 1               333              333   \n",
       "2                 1               333              333   \n",
       "3                 1               333              333   \n",
       "4                 1               333              333   \n",
       "\n",
       "             conflict_name  dyad_dset_id  ...   date_end deaths_a  deaths_b  \\\n",
       "0         Iraq: Government           524  ... 2017-07-31        0         4   \n",
       "1  Afghanistan: Government           724  ... 1989-01-13        6         0   \n",
       "2  Afghanistan: Government           724  ... 1989-01-18        0         0   \n",
       "3  Afghanistan: Government           724  ... 1989-01-24        0         0   \n",
       "4  Afghanistan: Government           724  ... 1989-02-05        0         0   \n",
       "\n",
       "   deaths_civilians deaths_unknown  best  high  low  gwnoa gwnob  \n",
       "0                 0              2     6     6    6    645   NaN  \n",
       "1                 0              0     6     6    6    700   NaN  \n",
       "2                 0              4     4     4    0    700   NaN  \n",
       "3                 0            600   600   600  600    700   NaN  \n",
       "4                 0              2     2     2    0    700   NaN  \n",
       "\n",
       "[5 rows x 49 columns]"
      ]
     },
     "execution_count": 25,
     "metadata": {},
     "output_type": "execute_result"
    }
   ],
   "source": [
    "df.head()"
   ]
  },
  {
   "cell_type": "markdown",
   "metadata": {
    "id": "k9CZPAUoFSmB"
   },
   "source": [
    "Build your curated database from the UCDP raw data where you find all events occurred in Afghanistan, specifically for three districts called Kunduz, Ghazni, and Kabul"
   ]
  },
  {
   "cell_type": "code",
   "execution_count": 26,
   "metadata": {
    "id": "MEWeZWVWBamh"
   },
   "outputs": [],
   "source": [
    "df1= df[(df.adm_2=='Kabul district')|(df.adm_2=='Kunduz district')|(df.adm_2=='Ghazni district') ]"
   ]
  },
  {
   "cell_type": "code",
   "execution_count": 27,
   "metadata": {
    "colab": {
     "base_uri": "https://localhost:8080/"
    },
    "id": "7SiCj8SOCEhO",
    "outputId": "fb36b010-cd7b-4de5-9a55-650b04f52599"
   },
   "outputs": [
    {
     "data": {
      "text/plain": [
       "(1541, 49)"
      ]
     },
     "execution_count": 27,
     "metadata": {},
     "output_type": "execute_result"
    }
   ],
   "source": [
    "df1.shape"
   ]
  },
  {
   "cell_type": "code",
   "execution_count": 28,
   "metadata": {
    "colab": {
     "base_uri": "https://localhost:8080/"
    },
    "id": "--wU9sGYDJ5Z",
    "outputId": "46a59d7e-09df-4ea9-a771-c31bf42a8d4e"
   },
   "outputs": [
    {
     "data": {
      "text/plain": [
       "Kabul district     992\n",
       "Kunduz district    299\n",
       "Ghazni district    250\n",
       "Name: adm_2, dtype: int64"
      ]
     },
     "execution_count": 28,
     "metadata": {},
     "output_type": "execute_result"
    }
   ],
   "source": [
    "df1.adm_2.value_counts()"
   ]
  },
  {
   "cell_type": "code",
   "execution_count": 30,
   "metadata": {},
   "outputs": [
    {
     "data": {
      "text/html": [
       "<div>\n",
       "<style scoped>\n",
       "    .dataframe tbody tr th:only-of-type {\n",
       "        vertical-align: middle;\n",
       "    }\n",
       "\n",
       "    .dataframe tbody tr th {\n",
       "        vertical-align: top;\n",
       "    }\n",
       "\n",
       "    .dataframe thead th {\n",
       "        text-align: right;\n",
       "    }\n",
       "</style>\n",
       "<table border=\"1\" class=\"dataframe\">\n",
       "  <thead>\n",
       "    <tr style=\"text-align: right;\">\n",
       "      <th></th>\n",
       "      <th>0</th>\n",
       "      <th>4</th>\n",
       "      <th>7</th>\n",
       "      <th>9</th>\n",
       "      <th>10</th>\n",
       "    </tr>\n",
       "  </thead>\n",
       "  <tbody>\n",
       "    <tr>\n",
       "      <th>id</th>\n",
       "      <td>244657</td>\n",
       "      <td>133883</td>\n",
       "      <td>133888</td>\n",
       "      <td>133892</td>\n",
       "      <td>133898</td>\n",
       "    </tr>\n",
       "    <tr>\n",
       "      <th>relid</th>\n",
       "      <td>IRQ-2017-1-524-322</td>\n",
       "      <td>AFG-1989-1-411-39</td>\n",
       "      <td>AFG-1989-1-411-40</td>\n",
       "      <td>AFG-1989-1-411-7</td>\n",
       "      <td>AFG-1989-1-411-8</td>\n",
       "    </tr>\n",
       "    <tr>\n",
       "      <th>year</th>\n",
       "      <td>2017</td>\n",
       "      <td>1989</td>\n",
       "      <td>1989</td>\n",
       "      <td>1989</td>\n",
       "      <td>1989</td>\n",
       "    </tr>\n",
       "    <tr>\n",
       "      <th>active_year</th>\n",
       "      <td>1</td>\n",
       "      <td>1</td>\n",
       "      <td>1</td>\n",
       "      <td>1</td>\n",
       "      <td>1</td>\n",
       "    </tr>\n",
       "    <tr>\n",
       "      <th>code_status</th>\n",
       "      <td>Clear</td>\n",
       "      <td>Clear</td>\n",
       "      <td>Clear</td>\n",
       "      <td>Clear</td>\n",
       "      <td>Clear</td>\n",
       "    </tr>\n",
       "    <tr>\n",
       "      <th>type_of_violence</th>\n",
       "      <td>1</td>\n",
       "      <td>1</td>\n",
       "      <td>1</td>\n",
       "      <td>1</td>\n",
       "      <td>1</td>\n",
       "    </tr>\n",
       "    <tr>\n",
       "      <th>conflict_dset_id</th>\n",
       "      <td>259</td>\n",
       "      <td>333</td>\n",
       "      <td>333</td>\n",
       "      <td>333</td>\n",
       "      <td>333</td>\n",
       "    </tr>\n",
       "    <tr>\n",
       "      <th>conflict_new_id</th>\n",
       "      <td>259</td>\n",
       "      <td>333</td>\n",
       "      <td>333</td>\n",
       "      <td>333</td>\n",
       "      <td>333</td>\n",
       "    </tr>\n",
       "    <tr>\n",
       "      <th>conflict_name</th>\n",
       "      <td>Iraq: Government</td>\n",
       "      <td>Afghanistan: Government</td>\n",
       "      <td>Afghanistan: Government</td>\n",
       "      <td>Afghanistan: Government</td>\n",
       "      <td>Afghanistan: Government</td>\n",
       "    </tr>\n",
       "    <tr>\n",
       "      <th>dyad_dset_id</th>\n",
       "      <td>524</td>\n",
       "      <td>724</td>\n",
       "      <td>724</td>\n",
       "      <td>724</td>\n",
       "      <td>724</td>\n",
       "    </tr>\n",
       "    <tr>\n",
       "      <th>dyad_new_id</th>\n",
       "      <td>524</td>\n",
       "      <td>724</td>\n",
       "      <td>724</td>\n",
       "      <td>724</td>\n",
       "      <td>724</td>\n",
       "    </tr>\n",
       "    <tr>\n",
       "      <th>dyad_name</th>\n",
       "      <td>Government of Iraq - IS</td>\n",
       "      <td>Government of Afghanistan - Jam'iyyat-i Islami...</td>\n",
       "      <td>Government of Afghanistan - Jam'iyyat-i Islami...</td>\n",
       "      <td>Government of Afghanistan - Jam'iyyat-i Islami...</td>\n",
       "      <td>Government of Afghanistan - Jam'iyyat-i Islami...</td>\n",
       "    </tr>\n",
       "    <tr>\n",
       "      <th>side_a_dset_id</th>\n",
       "      <td>116</td>\n",
       "      <td>130</td>\n",
       "      <td>130</td>\n",
       "      <td>130</td>\n",
       "      <td>130</td>\n",
       "    </tr>\n",
       "    <tr>\n",
       "      <th>side_a_new_id</th>\n",
       "      <td>116</td>\n",
       "      <td>130</td>\n",
       "      <td>130</td>\n",
       "      <td>130</td>\n",
       "      <td>130</td>\n",
       "    </tr>\n",
       "    <tr>\n",
       "      <th>side_a</th>\n",
       "      <td>Government of Iraq</td>\n",
       "      <td>Government of Afghanistan</td>\n",
       "      <td>Government of Afghanistan</td>\n",
       "      <td>Government of Afghanistan</td>\n",
       "      <td>Government of Afghanistan</td>\n",
       "    </tr>\n",
       "    <tr>\n",
       "      <th>side_b_dset_id</th>\n",
       "      <td>234</td>\n",
       "      <td>292</td>\n",
       "      <td>292</td>\n",
       "      <td>292</td>\n",
       "      <td>292</td>\n",
       "    </tr>\n",
       "    <tr>\n",
       "      <th>side_b_new_id</th>\n",
       "      <td>234</td>\n",
       "      <td>292</td>\n",
       "      <td>292</td>\n",
       "      <td>292</td>\n",
       "      <td>292</td>\n",
       "    </tr>\n",
       "    <tr>\n",
       "      <th>side_b</th>\n",
       "      <td>IS</td>\n",
       "      <td>Jam'iyyat-i Islami-yi Afghanistan</td>\n",
       "      <td>Jam'iyyat-i Islami-yi Afghanistan</td>\n",
       "      <td>Jam'iyyat-i Islami-yi Afghanistan</td>\n",
       "      <td>Jam'iyyat-i Islami-yi Afghanistan</td>\n",
       "    </tr>\n",
       "    <tr>\n",
       "      <th>number_of_sources</th>\n",
       "      <td>3</td>\n",
       "      <td>-1</td>\n",
       "      <td>-1</td>\n",
       "      <td>-1</td>\n",
       "      <td>-1</td>\n",
       "    </tr>\n",
       "    <tr>\n",
       "      <th>source_article</th>\n",
       "      <td>\"Agence France Presse,2017-08-01,Attackers tar...</td>\n",
       "      <td>The Sunday Times 5 Feb 1989 \"The Russians move...</td>\n",
       "      <td>R 8 Feb 1989 \"SEVEN DIE IN ROCKET ATTACK AS RE...</td>\n",
       "      <td>The Washington Post 15 Feb 1989 \"Some Afghan A...</td>\n",
       "      <td>Houston Chronicle News Services 16 February 1989</td>\n",
       "    </tr>\n",
       "    <tr>\n",
       "      <th>source_office</th>\n",
       "      <td>Agence France Presse;Agence France Presse;Pajh...</td>\n",
       "      <td>NaN</td>\n",
       "      <td>NaN</td>\n",
       "      <td>NaN</td>\n",
       "      <td>NaN</td>\n",
       "    </tr>\n",
       "    <tr>\n",
       "      <th>source_date</th>\n",
       "      <td>2017-08-01;2017-08-01;2017-07-31</td>\n",
       "      <td>NaN</td>\n",
       "      <td>NaN</td>\n",
       "      <td>NaN</td>\n",
       "      <td>NaN</td>\n",
       "    </tr>\n",
       "    <tr>\n",
       "      <th>source_headline</th>\n",
       "      <td>Attackers target Shiite mosque in Afghanistan'...</td>\n",
       "      <td>NaN</td>\n",
       "      <td>NaN</td>\n",
       "      <td>NaN</td>\n",
       "      <td>NaN</td>\n",
       "    </tr>\n",
       "    <tr>\n",
       "      <th>source_original</th>\n",
       "      <td>IS, interior ministry, security source</td>\n",
       "      <td>Military spokesman</td>\n",
       "      <td>Tass news agency</td>\n",
       "      <td>Kabul radio (monitored in Islamabad)</td>\n",
       "      <td>Afghan Foreign Ministry officials</td>\n",
       "    </tr>\n",
       "    <tr>\n",
       "      <th>where_prec</th>\n",
       "      <td>1</td>\n",
       "      <td>1</td>\n",
       "      <td>1</td>\n",
       "      <td>1</td>\n",
       "      <td>1</td>\n",
       "    </tr>\n",
       "    <tr>\n",
       "      <th>where_coordinates</th>\n",
       "      <td>Kabul city</td>\n",
       "      <td>Kabul city</td>\n",
       "      <td>Kabul city</td>\n",
       "      <td>Kabul city</td>\n",
       "      <td>Kabul city</td>\n",
       "    </tr>\n",
       "    <tr>\n",
       "      <th>where_description</th>\n",
       "      <td>Iraqi embassy in Kabul</td>\n",
       "      <td>Kabul city</td>\n",
       "      <td>Kabul city</td>\n",
       "      <td>Kabul city</td>\n",
       "      <td>Kabul city</td>\n",
       "    </tr>\n",
       "    <tr>\n",
       "      <th>adm_1</th>\n",
       "      <td>Kabul province</td>\n",
       "      <td>Kabul province</td>\n",
       "      <td>Kabul province</td>\n",
       "      <td>Kabul province</td>\n",
       "      <td>Kabul province</td>\n",
       "    </tr>\n",
       "    <tr>\n",
       "      <th>adm_2</th>\n",
       "      <td>Kabul district</td>\n",
       "      <td>Kabul district</td>\n",
       "      <td>Kabul district</td>\n",
       "      <td>Kabul district</td>\n",
       "      <td>Kabul district</td>\n",
       "    </tr>\n",
       "    <tr>\n",
       "      <th>latitude</th>\n",
       "      <td>34.5311</td>\n",
       "      <td>34.5311</td>\n",
       "      <td>34.5311</td>\n",
       "      <td>34.5311</td>\n",
       "      <td>34.5311</td>\n",
       "    </tr>\n",
       "    <tr>\n",
       "      <th>longitude</th>\n",
       "      <td>69.1628</td>\n",
       "      <td>69.1628</td>\n",
       "      <td>69.1628</td>\n",
       "      <td>69.1628</td>\n",
       "      <td>69.1628</td>\n",
       "    </tr>\n",
       "    <tr>\n",
       "      <th>geom_wkt</th>\n",
       "      <td>POINT (69.162796 34.531094)</td>\n",
       "      <td>POINT (69.162796 34.531094)</td>\n",
       "      <td>POINT (69.162796 34.531094)</td>\n",
       "      <td>POINT (69.162796 34.531094)</td>\n",
       "      <td>POINT (69.162796 34.531094)</td>\n",
       "    </tr>\n",
       "    <tr>\n",
       "      <th>priogrid_gid</th>\n",
       "      <td>179779</td>\n",
       "      <td>179779</td>\n",
       "      <td>179779</td>\n",
       "      <td>179779</td>\n",
       "      <td>179779</td>\n",
       "    </tr>\n",
       "    <tr>\n",
       "      <th>country</th>\n",
       "      <td>Afghanistan</td>\n",
       "      <td>Afghanistan</td>\n",
       "      <td>Afghanistan</td>\n",
       "      <td>Afghanistan</td>\n",
       "      <td>Afghanistan</td>\n",
       "    </tr>\n",
       "    <tr>\n",
       "      <th>country_id</th>\n",
       "      <td>700</td>\n",
       "      <td>700</td>\n",
       "      <td>700</td>\n",
       "      <td>700</td>\n",
       "      <td>700</td>\n",
       "    </tr>\n",
       "    <tr>\n",
       "      <th>region</th>\n",
       "      <td>Asia</td>\n",
       "      <td>Asia</td>\n",
       "      <td>Asia</td>\n",
       "      <td>Asia</td>\n",
       "      <td>Asia</td>\n",
       "    </tr>\n",
       "    <tr>\n",
       "      <th>event_clarity</th>\n",
       "      <td>1</td>\n",
       "      <td>1</td>\n",
       "      <td>1</td>\n",
       "      <td>1</td>\n",
       "      <td>1</td>\n",
       "    </tr>\n",
       "    <tr>\n",
       "      <th>date_prec</th>\n",
       "      <td>1</td>\n",
       "      <td>3</td>\n",
       "      <td>1</td>\n",
       "      <td>1</td>\n",
       "      <td>1</td>\n",
       "    </tr>\n",
       "    <tr>\n",
       "      <th>date_start</th>\n",
       "      <td>2017-07-31 00:00:00</td>\n",
       "      <td>1989-01-30 00:00:00</td>\n",
       "      <td>1989-02-08 00:00:00</td>\n",
       "      <td>1989-02-14 00:00:00</td>\n",
       "      <td>1989-02-16 00:00:00</td>\n",
       "    </tr>\n",
       "    <tr>\n",
       "      <th>date_end</th>\n",
       "      <td>2017-07-31 00:00:00</td>\n",
       "      <td>1989-02-05 00:00:00</td>\n",
       "      <td>1989-02-08 00:00:00</td>\n",
       "      <td>1989-02-14 00:00:00</td>\n",
       "      <td>1989-02-16 00:00:00</td>\n",
       "    </tr>\n",
       "    <tr>\n",
       "      <th>deaths_a</th>\n",
       "      <td>0</td>\n",
       "      <td>0</td>\n",
       "      <td>0</td>\n",
       "      <td>0</td>\n",
       "      <td>0</td>\n",
       "    </tr>\n",
       "    <tr>\n",
       "      <th>deaths_b</th>\n",
       "      <td>4</td>\n",
       "      <td>0</td>\n",
       "      <td>0</td>\n",
       "      <td>0</td>\n",
       "      <td>0</td>\n",
       "    </tr>\n",
       "    <tr>\n",
       "      <th>deaths_civilians</th>\n",
       "      <td>0</td>\n",
       "      <td>0</td>\n",
       "      <td>0</td>\n",
       "      <td>5</td>\n",
       "      <td>7</td>\n",
       "    </tr>\n",
       "    <tr>\n",
       "      <th>deaths_unknown</th>\n",
       "      <td>2</td>\n",
       "      <td>2</td>\n",
       "      <td>7</td>\n",
       "      <td>0</td>\n",
       "      <td>0</td>\n",
       "    </tr>\n",
       "    <tr>\n",
       "      <th>best</th>\n",
       "      <td>6</td>\n",
       "      <td>2</td>\n",
       "      <td>7</td>\n",
       "      <td>5</td>\n",
       "      <td>7</td>\n",
       "    </tr>\n",
       "    <tr>\n",
       "      <th>high</th>\n",
       "      <td>6</td>\n",
       "      <td>2</td>\n",
       "      <td>7</td>\n",
       "      <td>5</td>\n",
       "      <td>7</td>\n",
       "    </tr>\n",
       "    <tr>\n",
       "      <th>low</th>\n",
       "      <td>6</td>\n",
       "      <td>0</td>\n",
       "      <td>0</td>\n",
       "      <td>5</td>\n",
       "      <td>7</td>\n",
       "    </tr>\n",
       "    <tr>\n",
       "      <th>gwnoa</th>\n",
       "      <td>645</td>\n",
       "      <td>700</td>\n",
       "      <td>700</td>\n",
       "      <td>700</td>\n",
       "      <td>700</td>\n",
       "    </tr>\n",
       "    <tr>\n",
       "      <th>gwnob</th>\n",
       "      <td>NaN</td>\n",
       "      <td>NaN</td>\n",
       "      <td>NaN</td>\n",
       "      <td>NaN</td>\n",
       "      <td>NaN</td>\n",
       "    </tr>\n",
       "  </tbody>\n",
       "</table>\n",
       "</div>"
      ],
      "text/plain": [
       "                                                                  0   \\\n",
       "id                                                            244657   \n",
       "relid                                             IRQ-2017-1-524-322   \n",
       "year                                                            2017   \n",
       "active_year                                                        1   \n",
       "code_status                                                    Clear   \n",
       "type_of_violence                                                   1   \n",
       "conflict_dset_id                                                 259   \n",
       "conflict_new_id                                                  259   \n",
       "conflict_name                                       Iraq: Government   \n",
       "dyad_dset_id                                                     524   \n",
       "dyad_new_id                                                      524   \n",
       "dyad_name                                    Government of Iraq - IS   \n",
       "side_a_dset_id                                                   116   \n",
       "side_a_new_id                                                    116   \n",
       "side_a                                            Government of Iraq   \n",
       "side_b_dset_id                                                   234   \n",
       "side_b_new_id                                                    234   \n",
       "side_b                                                            IS   \n",
       "number_of_sources                                                  3   \n",
       "source_article     \"Agence France Presse,2017-08-01,Attackers tar...   \n",
       "source_office      Agence France Presse;Agence France Presse;Pajh...   \n",
       "source_date                         2017-08-01;2017-08-01;2017-07-31   \n",
       "source_headline    Attackers target Shiite mosque in Afghanistan'...   \n",
       "source_original               IS, interior ministry, security source   \n",
       "where_prec                                                         1   \n",
       "where_coordinates                                         Kabul city   \n",
       "where_description                             Iraqi embassy in Kabul   \n",
       "adm_1                                                 Kabul province   \n",
       "adm_2                                                 Kabul district   \n",
       "latitude                                                     34.5311   \n",
       "longitude                                                    69.1628   \n",
       "geom_wkt                                 POINT (69.162796 34.531094)   \n",
       "priogrid_gid                                                  179779   \n",
       "country                                                  Afghanistan   \n",
       "country_id                                                       700   \n",
       "region                                                          Asia   \n",
       "event_clarity                                                      1   \n",
       "date_prec                                                          1   \n",
       "date_start                                       2017-07-31 00:00:00   \n",
       "date_end                                         2017-07-31 00:00:00   \n",
       "deaths_a                                                           0   \n",
       "deaths_b                                                           4   \n",
       "deaths_civilians                                                   0   \n",
       "deaths_unknown                                                     2   \n",
       "best                                                               6   \n",
       "high                                                               6   \n",
       "low                                                                6   \n",
       "gwnoa                                                            645   \n",
       "gwnob                                                            NaN   \n",
       "\n",
       "                                                                  4   \\\n",
       "id                                                            133883   \n",
       "relid                                              AFG-1989-1-411-39   \n",
       "year                                                            1989   \n",
       "active_year                                                        1   \n",
       "code_status                                                    Clear   \n",
       "type_of_violence                                                   1   \n",
       "conflict_dset_id                                                 333   \n",
       "conflict_new_id                                                  333   \n",
       "conflict_name                                Afghanistan: Government   \n",
       "dyad_dset_id                                                     724   \n",
       "dyad_new_id                                                      724   \n",
       "dyad_name          Government of Afghanistan - Jam'iyyat-i Islami...   \n",
       "side_a_dset_id                                                   130   \n",
       "side_a_new_id                                                    130   \n",
       "side_a                                     Government of Afghanistan   \n",
       "side_b_dset_id                                                   292   \n",
       "side_b_new_id                                                    292   \n",
       "side_b                             Jam'iyyat-i Islami-yi Afghanistan   \n",
       "number_of_sources                                                 -1   \n",
       "source_article     The Sunday Times 5 Feb 1989 \"The Russians move...   \n",
       "source_office                                                    NaN   \n",
       "source_date                                                      NaN   \n",
       "source_headline                                                  NaN   \n",
       "source_original                                   Military spokesman   \n",
       "where_prec                                                         1   \n",
       "where_coordinates                                         Kabul city   \n",
       "where_description                                         Kabul city   \n",
       "adm_1                                                 Kabul province   \n",
       "adm_2                                                 Kabul district   \n",
       "latitude                                                     34.5311   \n",
       "longitude                                                    69.1628   \n",
       "geom_wkt                                 POINT (69.162796 34.531094)   \n",
       "priogrid_gid                                                  179779   \n",
       "country                                                  Afghanistan   \n",
       "country_id                                                       700   \n",
       "region                                                          Asia   \n",
       "event_clarity                                                      1   \n",
       "date_prec                                                          3   \n",
       "date_start                                       1989-01-30 00:00:00   \n",
       "date_end                                         1989-02-05 00:00:00   \n",
       "deaths_a                                                           0   \n",
       "deaths_b                                                           0   \n",
       "deaths_civilians                                                   0   \n",
       "deaths_unknown                                                     2   \n",
       "best                                                               2   \n",
       "high                                                               2   \n",
       "low                                                                0   \n",
       "gwnoa                                                            700   \n",
       "gwnob                                                            NaN   \n",
       "\n",
       "                                                                  7   \\\n",
       "id                                                            133888   \n",
       "relid                                              AFG-1989-1-411-40   \n",
       "year                                                            1989   \n",
       "active_year                                                        1   \n",
       "code_status                                                    Clear   \n",
       "type_of_violence                                                   1   \n",
       "conflict_dset_id                                                 333   \n",
       "conflict_new_id                                                  333   \n",
       "conflict_name                                Afghanistan: Government   \n",
       "dyad_dset_id                                                     724   \n",
       "dyad_new_id                                                      724   \n",
       "dyad_name          Government of Afghanistan - Jam'iyyat-i Islami...   \n",
       "side_a_dset_id                                                   130   \n",
       "side_a_new_id                                                    130   \n",
       "side_a                                     Government of Afghanistan   \n",
       "side_b_dset_id                                                   292   \n",
       "side_b_new_id                                                    292   \n",
       "side_b                             Jam'iyyat-i Islami-yi Afghanistan   \n",
       "number_of_sources                                                 -1   \n",
       "source_article     R 8 Feb 1989 \"SEVEN DIE IN ROCKET ATTACK AS RE...   \n",
       "source_office                                                    NaN   \n",
       "source_date                                                      NaN   \n",
       "source_headline                                                  NaN   \n",
       "source_original                                     Tass news agency   \n",
       "where_prec                                                         1   \n",
       "where_coordinates                                         Kabul city   \n",
       "where_description                                         Kabul city   \n",
       "adm_1                                                 Kabul province   \n",
       "adm_2                                                 Kabul district   \n",
       "latitude                                                     34.5311   \n",
       "longitude                                                    69.1628   \n",
       "geom_wkt                                 POINT (69.162796 34.531094)   \n",
       "priogrid_gid                                                  179779   \n",
       "country                                                  Afghanistan   \n",
       "country_id                                                       700   \n",
       "region                                                          Asia   \n",
       "event_clarity                                                      1   \n",
       "date_prec                                                          1   \n",
       "date_start                                       1989-02-08 00:00:00   \n",
       "date_end                                         1989-02-08 00:00:00   \n",
       "deaths_a                                                           0   \n",
       "deaths_b                                                           0   \n",
       "deaths_civilians                                                   0   \n",
       "deaths_unknown                                                     7   \n",
       "best                                                               7   \n",
       "high                                                               7   \n",
       "low                                                                0   \n",
       "gwnoa                                                            700   \n",
       "gwnob                                                            NaN   \n",
       "\n",
       "                                                                  9   \\\n",
       "id                                                            133892   \n",
       "relid                                               AFG-1989-1-411-7   \n",
       "year                                                            1989   \n",
       "active_year                                                        1   \n",
       "code_status                                                    Clear   \n",
       "type_of_violence                                                   1   \n",
       "conflict_dset_id                                                 333   \n",
       "conflict_new_id                                                  333   \n",
       "conflict_name                                Afghanistan: Government   \n",
       "dyad_dset_id                                                     724   \n",
       "dyad_new_id                                                      724   \n",
       "dyad_name          Government of Afghanistan - Jam'iyyat-i Islami...   \n",
       "side_a_dset_id                                                   130   \n",
       "side_a_new_id                                                    130   \n",
       "side_a                                     Government of Afghanistan   \n",
       "side_b_dset_id                                                   292   \n",
       "side_b_new_id                                                    292   \n",
       "side_b                             Jam'iyyat-i Islami-yi Afghanistan   \n",
       "number_of_sources                                                 -1   \n",
       "source_article     The Washington Post 15 Feb 1989 \"Some Afghan A...   \n",
       "source_office                                                    NaN   \n",
       "source_date                                                      NaN   \n",
       "source_headline                                                  NaN   \n",
       "source_original                 Kabul radio (monitored in Islamabad)   \n",
       "where_prec                                                         1   \n",
       "where_coordinates                                         Kabul city   \n",
       "where_description                                         Kabul city   \n",
       "adm_1                                                 Kabul province   \n",
       "adm_2                                                 Kabul district   \n",
       "latitude                                                     34.5311   \n",
       "longitude                                                    69.1628   \n",
       "geom_wkt                                 POINT (69.162796 34.531094)   \n",
       "priogrid_gid                                                  179779   \n",
       "country                                                  Afghanistan   \n",
       "country_id                                                       700   \n",
       "region                                                          Asia   \n",
       "event_clarity                                                      1   \n",
       "date_prec                                                          1   \n",
       "date_start                                       1989-02-14 00:00:00   \n",
       "date_end                                         1989-02-14 00:00:00   \n",
       "deaths_a                                                           0   \n",
       "deaths_b                                                           0   \n",
       "deaths_civilians                                                   5   \n",
       "deaths_unknown                                                     0   \n",
       "best                                                               5   \n",
       "high                                                               5   \n",
       "low                                                                5   \n",
       "gwnoa                                                            700   \n",
       "gwnob                                                            NaN   \n",
       "\n",
       "                                                                  10  \n",
       "id                                                            133898  \n",
       "relid                                               AFG-1989-1-411-8  \n",
       "year                                                            1989  \n",
       "active_year                                                        1  \n",
       "code_status                                                    Clear  \n",
       "type_of_violence                                                   1  \n",
       "conflict_dset_id                                                 333  \n",
       "conflict_new_id                                                  333  \n",
       "conflict_name                                Afghanistan: Government  \n",
       "dyad_dset_id                                                     724  \n",
       "dyad_new_id                                                      724  \n",
       "dyad_name          Government of Afghanistan - Jam'iyyat-i Islami...  \n",
       "side_a_dset_id                                                   130  \n",
       "side_a_new_id                                                    130  \n",
       "side_a                                     Government of Afghanistan  \n",
       "side_b_dset_id                                                   292  \n",
       "side_b_new_id                                                    292  \n",
       "side_b                             Jam'iyyat-i Islami-yi Afghanistan  \n",
       "number_of_sources                                                 -1  \n",
       "source_article      Houston Chronicle News Services 16 February 1989  \n",
       "source_office                                                    NaN  \n",
       "source_date                                                      NaN  \n",
       "source_headline                                                  NaN  \n",
       "source_original                    Afghan Foreign Ministry officials  \n",
       "where_prec                                                         1  \n",
       "where_coordinates                                         Kabul city  \n",
       "where_description                                         Kabul city  \n",
       "adm_1                                                 Kabul province  \n",
       "adm_2                                                 Kabul district  \n",
       "latitude                                                     34.5311  \n",
       "longitude                                                    69.1628  \n",
       "geom_wkt                                 POINT (69.162796 34.531094)  \n",
       "priogrid_gid                                                  179779  \n",
       "country                                                  Afghanistan  \n",
       "country_id                                                       700  \n",
       "region                                                          Asia  \n",
       "event_clarity                                                      1  \n",
       "date_prec                                                          1  \n",
       "date_start                                       1989-02-16 00:00:00  \n",
       "date_end                                         1989-02-16 00:00:00  \n",
       "deaths_a                                                           0  \n",
       "deaths_b                                                           0  \n",
       "deaths_civilians                                                   7  \n",
       "deaths_unknown                                                     0  \n",
       "best                                                               7  \n",
       "high                                                               7  \n",
       "low                                                                7  \n",
       "gwnoa                                                            700  \n",
       "gwnob                                                            NaN  "
      ]
     },
     "execution_count": 30,
     "metadata": {},
     "output_type": "execute_result"
    }
   ],
   "source": [
    "df1.head().T"
   ]
  },
  {
   "cell_type": "markdown",
   "metadata": {
    "id": "5wpU9Um0FYml"
   },
   "source": [
    "In your database, you want to curate monthly total number of events and total number of people affected (use column name “BEST” in the raw data)"
   ]
  },
  {
   "cell_type": "code",
   "execution_count": 110,
   "metadata": {
    "id": "_zm3GZ9yFoLm"
   },
   "outputs": [],
   "source": [
    "def add_datepart(df, fldname, drop=False, time=False):\n",
    "    fld = df[fldname]\n",
    "    if not np.issubdtype(fld.dtype, np.datetime64):\n",
    "        df[fldname] = fld = pd.to_datetime(fld, infer_datetime_format=True)\n",
    "    targ_pre = re.sub('[Dd]ate$', '', fldname)\n",
    "    attr = ['Year', 'Month', 'Week', 'Day']\n",
    "    if time: attr = attr + ['Hour', 'Minute', 'Second']\n",
    "    for n in attr: df[targ_pre + n] = getattr(fld.dt, n.lower())\n",
    "    df[targ_pre + 'Elapsed'] = fld.astype(np.int64) // 10 ** 9\n",
    "    if drop: df.drop(fldname, axis=1, inplace=True)"
   ]
  },
  {
   "cell_type": "code",
   "execution_count": 111,
   "metadata": {
    "id": "6j-L3CMAO8qp"
   },
   "outputs": [],
   "source": [
    "df1['month_year'] = pd.to_datetime(df1['date_end']).dt.to_period('M')"
   ]
  },
  {
   "cell_type": "code",
   "execution_count": 112,
   "metadata": {
    "id": "FFL-No4jFpFZ"
   },
   "outputs": [],
   "source": [
    "add_datepart(df1,'date_end')"
   ]
  },
  {
   "cell_type": "code",
   "execution_count": 113,
   "metadata": {
    "colab": {
     "base_uri": "https://localhost:8080/"
    },
    "id": "gWttLkNKF9dI",
    "outputId": "d4161b40-20f4-40e1-9ab8-6991d776e53f"
   },
   "outputs": [
    {
     "data": {
      "text/plain": [
       "Index(['id', 'relid', 'year', 'active_year', 'code_status', 'type_of_violence',\n",
       "       'conflict_dset_id', 'conflict_new_id', 'conflict_name', 'dyad_dset_id',\n",
       "       'dyad_new_id', 'dyad_name', 'side_a_dset_id', 'side_a_new_id', 'side_a',\n",
       "       'side_b_dset_id', 'side_b_new_id', 'side_b', 'number_of_sources',\n",
       "       'source_article', 'source_office', 'source_date', 'source_headline',\n",
       "       'source_original', 'where_prec', 'where_coordinates',\n",
       "       'where_description', 'adm_1', 'adm_2', 'latitude', 'longitude',\n",
       "       'geom_wkt', 'priogrid_gid', 'country', 'country_id', 'region',\n",
       "       'event_clarity', 'date_prec', 'date_start', 'date_end', 'deaths_a',\n",
       "       'deaths_b', 'deaths_civilians', 'deaths_unknown', 'best', 'high', 'low',\n",
       "       'gwnoa', 'gwnob', 'month_year', 'date_endYear', 'date_endMonth',\n",
       "       'date_endWeek', 'date_endDay', 'date_endElapsed'],\n",
       "      dtype='object')"
      ]
     },
     "execution_count": 113,
     "metadata": {},
     "output_type": "execute_result"
    }
   ],
   "source": [
    "df1.columns"
   ]
  },
  {
   "cell_type": "code",
   "execution_count": 114,
   "metadata": {
    "id": "xeWxLl7KFXlX"
   },
   "outputs": [],
   "source": [
    "events=df1.groupby(['adm_2','month_year'])['best'].sum().to_frame()"
   ]
  },
  {
   "cell_type": "code",
   "execution_count": 115,
   "metadata": {
    "id": "_IUWHQ1GN7jR"
   },
   "outputs": [],
   "source": [
    "events.reset_index(inplace=True)"
   ]
  },
  {
   "cell_type": "code",
   "execution_count": 116,
   "metadata": {
    "colab": {
     "base_uri": "https://localhost:8080/",
     "height": 166
    },
    "id": "kdySwwKaFXuP",
    "outputId": "2efacc83-ccdb-4aa9-d5ad-9c04490afb66"
   },
   "outputs": [
    {
     "data": {
      "text/html": [
       "<div>\n",
       "<style scoped>\n",
       "    .dataframe tbody tr th:only-of-type {\n",
       "        vertical-align: middle;\n",
       "    }\n",
       "\n",
       "    .dataframe tbody tr th {\n",
       "        vertical-align: top;\n",
       "    }\n",
       "\n",
       "    .dataframe thead th {\n",
       "        text-align: right;\n",
       "    }\n",
       "</style>\n",
       "<table border=\"1\" class=\"dataframe\">\n",
       "  <thead>\n",
       "    <tr style=\"text-align: right;\">\n",
       "      <th></th>\n",
       "      <th>adm_2</th>\n",
       "      <th>month_year</th>\n",
       "      <th>best</th>\n",
       "    </tr>\n",
       "  </thead>\n",
       "  <tbody>\n",
       "    <tr>\n",
       "      <th>0</th>\n",
       "      <td>Ghazni district</td>\n",
       "      <td>1989-02</td>\n",
       "      <td>6</td>\n",
       "    </tr>\n",
       "    <tr>\n",
       "      <th>1</th>\n",
       "      <td>Ghazni district</td>\n",
       "      <td>1989-05</td>\n",
       "      <td>0</td>\n",
       "    </tr>\n",
       "    <tr>\n",
       "      <th>2</th>\n",
       "      <td>Ghazni district</td>\n",
       "      <td>2003-11</td>\n",
       "      <td>1</td>\n",
       "    </tr>\n",
       "    <tr>\n",
       "      <th>3</th>\n",
       "      <td>Ghazni district</td>\n",
       "      <td>2005-08</td>\n",
       "      <td>1</td>\n",
       "    </tr>\n",
       "  </tbody>\n",
       "</table>\n",
       "</div>"
      ],
      "text/plain": [
       "             adm_2 month_year  best\n",
       "0  Ghazni district    1989-02     6\n",
       "1  Ghazni district    1989-05     0\n",
       "2  Ghazni district    2003-11     1\n",
       "3  Ghazni district    2005-08     1"
      ]
     },
     "execution_count": 116,
     "metadata": {},
     "output_type": "execute_result"
    }
   ],
   "source": [
    "events.head(4)"
   ]
  },
  {
   "cell_type": "code",
   "execution_count": 117,
   "metadata": {
    "colab": {
     "base_uri": "https://localhost:8080/"
    },
    "id": "L_GfewamHUaB",
    "outputId": "088740dd-b953-4791-8ff6-c545110b373d"
   },
   "outputs": [
    {
     "data": {
      "text/plain": [
       "(472, 3)"
      ]
     },
     "execution_count": 117,
     "metadata": {},
     "output_type": "execute_result"
    }
   ],
   "source": [
    "events.shape  "
   ]
  },
  {
   "cell_type": "code",
   "execution_count": 118,
   "metadata": {
    "id": "GYji0yo_X19I"
   },
   "outputs": [],
   "source": [
    "events['month_year'] = events.month_year.values.astype('datetime64[M]')"
   ]
  },
  {
   "cell_type": "code",
   "execution_count": 119,
   "metadata": {
    "colab": {
     "base_uri": "https://localhost:8080/"
    },
    "id": "iDLOEfgJFXxZ",
    "outputId": "ee990b0a-737a-412e-9246-fe7cfda321be"
   },
   "outputs": [
    {
     "name": "stdout",
     "output_type": "stream",
     "text": [
      "<class 'pandas.core.frame.DataFrame'>\n",
      "RangeIndex: 472 entries, 0 to 471\n",
      "Data columns (total 3 columns):\n",
      "adm_2         472 non-null object\n",
      "month_year    472 non-null datetime64[ns]\n",
      "best          472 non-null int64\n",
      "dtypes: datetime64[ns](1), int64(1), object(1)\n",
      "memory usage: 11.2+ KB\n"
     ]
    }
   ],
   "source": [
    "events.info()"
   ]
  },
  {
   "cell_type": "code",
   "execution_count": 120,
   "metadata": {
    "colab": {
     "base_uri": "https://localhost:8080/",
     "height": 737
    },
    "id": "QlEi7TvXFXz_",
    "outputId": "47ca0dcf-581b-4962-f4fc-5e7ca90e974f"
   },
   "outputs": [
    {
     "data": {
      "image/png": "[encoded data removed]",
      "text/plain": [
       "<Figure size 1152x864 with 1 Axes>"
      ]
     },
     "metadata": {
      "needs_background": "light"
     },
     "output_type": "display_data"
    }
   ],
   "source": [
    "\n",
    "plt.rc('font', size=12)\n",
    "fig, ax = plt.subplots(figsize=(16, 12))\n",
    "dx=events[events.adm_2=='Kabul district']\n",
    "ax.plot(dx.month_year, dx.best, label='Kabul district')\n",
    "\n",
    "  # Same as above\n",
    "ax.set_xlabel('Year')\n",
    "ax.set_ylabel('Total number of people affected')\n",
    "ax.set_title('Kabul District')\n",
    "ax.grid(True)\n",
    "\n",
    "\n",
    "\n"
   ]
  },
  {
   "cell_type": "code",
   "execution_count": 121,
   "metadata": {
    "colab": {
     "base_uri": "https://localhost:8080/",
     "height": 737
    },
    "id": "hsZ5UeLWDTjx",
    "outputId": "79d9e115-c828-4345-c3dd-4b2bffad6713"
   },
   "outputs": [
    {
     "data": {
      "image/png": "[encoded data removed]",
      "text/plain": [
       "<Figure size 1152x864 with 1 Axes>"
      ]
     },
     "metadata": {
      "needs_background": "light"
     },
     "output_type": "display_data"
    }
   ],
   "source": [
    "plt.rc('font', size=12)\n",
    "fig, ax = plt.subplots(figsize=(16, 12))\n",
    "\n",
    "\n",
    "dx=events[events.adm_2=='Kunduz district']\n",
    "ax.plot(dx.month_year, dx.best, label='Kunduz district')\n",
    "\n",
    "# Same as above\n",
    "ax.set_xlabel('Year')\n",
    "ax.set_ylabel('Total number of people affected')\n",
    "ax.set_title('Kunduz District')\n",
    "ax.grid(True)\n",
    " "
   ]
  },
  {
   "cell_type": "code",
   "execution_count": 122,
   "metadata": {
    "colab": {
     "base_uri": "https://localhost:8080/",
     "height": 737
    },
    "id": "-8rQeQ0hDTrz",
    "outputId": "573a4966-dd6f-4456-faa4-c7f66c14f670"
   },
   "outputs": [
    {
     "data": {
      "image/png": "[encoded data removed]",
      "text/plain": [
       "<Figure size 1152x864 with 1 Axes>"
      ]
     },
     "metadata": {
      "needs_background": "light"
     },
     "output_type": "display_data"
    }
   ],
   "source": [
    "plt.rc('font', size=12)\n",
    "fig, ax = plt.subplots(figsize=(16, 12))\n",
    "\n",
    "\n",
    "\n",
    "dx=events[events.adm_2=='Ghazni district']\n",
    "ax.plot(dx.month_year, dx.best, label='Ghazni district')\n",
    "\n",
    "  # Same as above\n",
    "ax.set_xlabel('Year')\n",
    "ax.set_ylabel('Total number of people affected')\n",
    "ax.set_title('Ghazni District')\n",
    "ax.grid(True)\n",
    " "
   ]
  },
  {
   "cell_type": "markdown",
   "metadata": {
    "id": "E3K8ei2pE7X9"
   },
   "source": [
    "# Question 2"
   ]
  },
  {
   "cell_type": "markdown",
   "metadata": {},
   "source": [
    "I am going to use data from 2011-2019"
   ]
  },
  {
   "cell_type": "code",
   "execution_count": 196,
   "metadata": {
    "colab": {
     "base_uri": "https://localhost:8080/",
     "height": 246
    },
    "id": "Y1s5aUp6jJsp",
    "outputId": "a7795cc6-3b5a-48ef-8b83-7c680bb0b8ab"
   },
   "outputs": [],
   "source": [
    "#minimum temp\n",
    "filename = \"cru_ts4.04.2011.2019.tmn.dat.nc\" # the location of the data\n",
    "tmn = Dataset(filename)"
   ]
  },
  {
   "cell_type": "code",
   "execution_count": 197,
   "metadata": {},
   "outputs": [],
   "source": [
    "#average temp\n",
    "filename = \"cru_ts4.04.2011.2019.tmp.dat.nc\" # the location of the data\n",
    "tmp = Dataset(filename)"
   ]
  },
  {
   "cell_type": "code",
   "execution_count": 198,
   "metadata": {},
   "outputs": [],
   "source": [
    "#max temp\n",
    "filename = \"cru_ts4.04.2011.2019.tmx.dat.nc\" # the location of the data\n",
    "tmx = Dataset(filename)"
   ]
  },
  {
   "cell_type": "code",
   "execution_count": 199,
   "metadata": {},
   "outputs": [],
   "source": [
    "# precipitation\n",
    "filename = \"cru_ts4.04.2011.2019.pre.dat.nc\" # the location of the data\n",
    "pre = Dataset(filename)"
   ]
  },
  {
   "cell_type": "code",
   "execution_count": 200,
   "metadata": {},
   "outputs": [],
   "source": [
    "x=events[events.adm_2=='Kabul district']\n",
    "x=list(x.best)\n",
    "x=x[-108:]"
   ]
  },
  {
   "cell_type": "markdown",
   "metadata": {},
   "source": [
    "#Minimum temp"
   ]
  },
  {
   "cell_type": "code",
   "execution_count": 201,
   "metadata": {},
   "outputs": [
    {
     "name": "stdout",
     "output_type": "stream",
     "text": [
      "dict_keys(['lon', 'lat', 'time', 'tmn', 'stn'])\n"
     ]
    }
   ],
   "source": [
    "print(data.variables.keys())"
   ]
  },
  {
   "cell_type": "code",
   "execution_count": 202,
   "metadata": {},
   "outputs": [],
   "source": [
    "#latitude\n",
    "lat = tmn.variables['lat'][:] \n",
    "#Longtitide\n",
    "lon = tmn.variables['lon'][:]\n",
    "#time\n",
    "time = tmn.variables['time'][:]\n",
    "#minimum temp\n",
    "tmn = tmn.variables['tmn'][:]"
   ]
  },
  {
   "cell_type": "code",
   "execution_count": 203,
   "metadata": {},
   "outputs": [],
   "source": [
    "kabul_lati=34.5311\n",
    "kabul_long=69.1628"
   ]
  },
  {
   "cell_type": "code",
   "execution_count": 204,
   "metadata": {},
   "outputs": [],
   "source": [
    "#To find index of kabul\n",
    "lat_index_kabul=np.argmin(abs(lat-kabul_lati))\n",
    "long_index_kabul=np.argmin(abs(lon-kabul_long))"
   ]
  },
  {
   "cell_type": "code",
   "execution_count": 205,
   "metadata": {},
   "outputs": [
    {
     "data": {
      "text/plain": [
       "(249, 498)"
      ]
     },
     "execution_count": 205,
     "metadata": {},
     "output_type": "execute_result"
    }
   ],
   "source": [
    "lat_index_kabul,long_index_kabul"
   ]
  },
  {
   "cell_type": "code",
   "execution_count": 206,
   "metadata": {},
   "outputs": [],
   "source": [
    "#Temperature minimum for kabul district\n",
    "kabul_tmn=tmn[:,lat_index_kabul,long_index_kabul]"
   ]
  },
  {
   "cell_type": "code",
   "execution_count": 207,
   "metadata": {},
   "outputs": [
    {
     "data": {
      "text/plain": [
       "numpy.ma.core.MaskedArray"
      ]
     },
     "execution_count": 207,
     "metadata": {},
     "output_type": "execute_result"
    }
   ],
   "source": [
    "type(kabul_tmn)"
   ]
  },
  {
   "cell_type": "code",
   "execution_count": 208,
   "metadata": {},
   "outputs": [
    {
     "data": {
      "text/plain": [
       "108"
      ]
     },
     "execution_count": 208,
     "metadata": {},
     "output_type": "execute_result"
    }
   ],
   "source": [
    "len(kabul_tmn)"
   ]
  },
  {
   "cell_type": "code",
   "execution_count": 209,
   "metadata": {},
   "outputs": [
    {
     "data": {
      "text/plain": [
       "masked_array(data=[-7.800000190734863, -6.0, 0.9000000357627869],\n",
       "             mask=[False, False, False],\n",
       "       fill_value=9.96921e+36,\n",
       "            dtype=float32)"
      ]
     },
     "execution_count": 209,
     "metadata": {},
     "output_type": "execute_result"
    }
   ],
   "source": [
    "kabul_tmn[:3]"
   ]
  },
  {
   "cell_type": "code",
   "execution_count": 210,
   "metadata": {},
   "outputs": [],
   "source": [
    "def x_axis_date():\n",
    "    time=[]\n",
    "    start=np.datetime64(\"2011-01\")\n",
    "    end=np.datetime64(\"2019-12\")\n",
    "    while start<=end:\n",
    "        time.append(start)\n",
    "        start=start+ np.timedelta64(1,'M')    \n",
    "    return time"
   ]
  },
  {
   "cell_type": "code",
   "execution_count": 211,
   "metadata": {},
   "outputs": [],
   "source": [
    "x_axis=x_axis_date() "
   ]
  },
  {
   "cell_type": "code",
   "execution_count": 212,
   "metadata": {},
   "outputs": [
    {
     "data": {
      "text/plain": [
       "108"
      ]
     },
     "execution_count": 212,
     "metadata": {},
     "output_type": "execute_result"
    }
   ],
   "source": [
    "len(x_axis)"
   ]
  },
  {
   "cell_type": "code",
   "execution_count": 213,
   "metadata": {},
   "outputs": [
    {
     "data": {
      "text/plain": [
       "Text(0, 0.5, 'Minimum Temperature of Kabul')"
      ]
     },
     "execution_count": 213,
     "metadata": {},
     "output_type": "execute_result"
    },
    {
     "data": {
      "image/png": "[encoded data removed]",
      "text/plain": [
       "<Figure size 720x720 with 1 Axes>"
      ]
     },
     "metadata": {
      "needs_background": "light"
     },
     "output_type": "display_data"
    }
   ],
   "source": [
    "# Plot minimum temperature of Kabul\n",
    "plt.figure(figsize=(10,10))\n",
    "plt.plot(x_axis, kabul_tmn, color='red')\n",
    "plt.title('Kabul_District')\n",
    "plt.xlabel('Time')\n",
    "plt.ylabel('Minimum Temperature of Kabul')"
   ]
  },
  {
   "cell_type": "markdown",
   "metadata": {},
   "source": [
    "# Corelation between temp min and events in kabul"
   ]
  },
  {
   "cell_type": "code",
   "execution_count": 214,
   "metadata": {},
   "outputs": [],
   "source": [
    "import scipy.stats\n",
    "from scipy import stats"
   ]
  },
  {
   "cell_type": "code",
   "execution_count": 215,
   "metadata": {},
   "outputs": [],
   "source": [
    "y=kabul_tmn"
   ]
  },
  {
   "cell_type": "code",
   "execution_count": 216,
   "metadata": {},
   "outputs": [],
   "source": [
    "correlation, p_value = stats.pearsonr(x, y)"
   ]
  },
  {
   "cell_type": "code",
   "execution_count": 217,
   "metadata": {},
   "outputs": [
    {
     "data": {
      "text/plain": [
       "(0.11373638163085514, 0.24118219659875653)"
      ]
     },
     "execution_count": 217,
     "metadata": {},
     "output_type": "execute_result"
    }
   ],
   "source": [
    "correlation, p_value"
   ]
  },
  {
   "cell_type": "markdown",
   "metadata": {},
   "source": [
    "# Maximum Temperature"
   ]
  },
  {
   "cell_type": "code",
   "execution_count": 219,
   "metadata": {},
   "outputs": [],
   "source": [
    "tmx = tmx.variables['tmx'][:]\n",
    "\n",
    "#Temperature maximum for kabul district\n",
    "kabul_tmx=tmx[:,lat_index_kabul,long_index_kabul]\n"
   ]
  },
  {
   "cell_type": "code",
   "execution_count": 220,
   "metadata": {},
   "outputs": [
    {
     "data": {
      "text/plain": [
       "Text(0, 0.5, 'Maximum Temperature of Kabul')"
      ]
     },
     "execution_count": 220,
     "metadata": {},
     "output_type": "execute_result"
    },
    {
     "data": {
      "image/png": "[encoded data removed]",
      "text/plain": [
       "<Figure size 720x720 with 1 Axes>"
      ]
     },
     "metadata": {
      "needs_background": "light"
     },
     "output_type": "display_data"
    }
   ],
   "source": [
    "# Plot maximum temperature of Kabul\n",
    "plt.figure(figsize=(10,10))\n",
    "plt.plot(x_axis, kabul_tmx, color='red')\n",
    "plt.title('Kabul_District')\n",
    "plt.xlabel('Time')\n",
    "plt.ylabel('Maximum Temperature of Kabul')\n"
   ]
  },
  {
   "cell_type": "markdown",
   "metadata": {},
   "source": [
    "# Corelation between temp max and events in kabul"
   ]
  },
  {
   "cell_type": "code",
   "execution_count": 221,
   "metadata": {},
   "outputs": [],
   "source": [
    "y=kabul_tmx"
   ]
  },
  {
   "cell_type": "code",
   "execution_count": 222,
   "metadata": {},
   "outputs": [
    {
     "data": {
      "text/plain": [
       "(0.08795271360488172, 0.36538522822307473)"
      ]
     },
     "execution_count": 222,
     "metadata": {},
     "output_type": "execute_result"
    }
   ],
   "source": [
    "correlation, p_value = stats.pearsonr(x, y)\n",
    "correlation, p_value"
   ]
  },
  {
   "cell_type": "code",
   "execution_count": 223,
   "metadata": {},
   "outputs": [
    {
     "data": {
      "text/plain": [
       "(-0.005302115100693281, 0.9565683532045455)"
      ]
     },
     "execution_count": 223,
     "metadata": {},
     "output_type": "execute_result"
    }
   ],
   "source": [
    "correlation, p_value = stats.spearmanr(x, y)\n",
    "correlation, p_value"
   ]
  },
  {
   "cell_type": "markdown",
   "metadata": {},
   "source": [
    "# Average temperature"
   ]
  },
  {
   "cell_type": "code",
   "execution_count": 224,
   "metadata": {},
   "outputs": [],
   "source": [
    "tmp = tmp.variables['tmp'][:]\n",
    "\n",
    "#Average Temperature for kabul district\n",
    "kabul_tmp=tmp[:,lat_index_kabul,long_index_kabul]\n"
   ]
  },
  {
   "cell_type": "code",
   "execution_count": 225,
   "metadata": {},
   "outputs": [
    {
     "data": {
      "text/plain": [
       "Text(0, 0.5, 'Temperature of Kabul')"
      ]
     },
     "execution_count": 225,
     "metadata": {},
     "output_type": "execute_result"
    },
    {
     "data": {
      "image/png": "[encoded data removed]",
      "text/plain": [
       "<Figure size 720x720 with 1 Axes>"
      ]
     },
     "metadata": {
      "needs_background": "light"
     },
     "output_type": "display_data"
    }
   ],
   "source": [
    "# Plot minimum temperature of Kabul\n",
    "plt.figure(figsize=(10,10))\n",
    "plt.plot(x_axis, kabul_tmp, color='red')\n",
    "plt.title('Kabul_District')\n",
    "plt.xlabel('Time')\n",
    "plt.ylabel('Temperature of Kabul')\n"
   ]
  },
  {
   "cell_type": "markdown",
   "metadata": {},
   "source": [
    "# Correlation between Average temp and events in kabul"
   ]
  },
  {
   "cell_type": "code",
   "execution_count": 226,
   "metadata": {},
   "outputs": [],
   "source": [
    "y=kabul_tmp"
   ]
  },
  {
   "cell_type": "code",
   "execution_count": 227,
   "metadata": {},
   "outputs": [
    {
     "data": {
      "text/plain": [
       "(0.08089769132608805, 0.40524183355543275)"
      ]
     },
     "execution_count": 227,
     "metadata": {},
     "output_type": "execute_result"
    }
   ],
   "source": [
    "correlation, p_value = stats.pearsonr(x, y)\n",
    "correlation, p_value"
   ]
  },
  {
   "cell_type": "code",
   "execution_count": 228,
   "metadata": {},
   "outputs": [
    {
     "data": {
      "text/plain": [
       "(-0.017552661392787605, 0.8569139926304915)"
      ]
     },
     "execution_count": 228,
     "metadata": {},
     "output_type": "execute_result"
    }
   ],
   "source": [
    "correlation, p_value = stats.spearmanr(x, y)\n",
    "correlation, p_value"
   ]
  },
  {
   "cell_type": "markdown",
   "metadata": {},
   "source": [
    "# precipitation"
   ]
  },
  {
   "cell_type": "code",
   "execution_count": 229,
   "metadata": {},
   "outputs": [],
   "source": [
    "pre = pre.variables['pre'][:]\n",
    "\n",
    "#Temperature minimum for kabul district\n",
    "kabul_pre=tmn[:,lat_index_kabul,long_index_kabul]"
   ]
  },
  {
   "cell_type": "code",
   "execution_count": 230,
   "metadata": {},
   "outputs": [
    {
     "data": {
      "text/plain": [
       "Text(0, 0.5, 'pre of Kabul')"
      ]
     },
     "execution_count": 230,
     "metadata": {},
     "output_type": "execute_result"
    },
    {
     "data": {
      "image/png": "[encoded data removed]",
      "text/plain": [
       "<Figure size 720x720 with 1 Axes>"
      ]
     },
     "metadata": {
      "needs_background": "light"
     },
     "output_type": "display_data"
    }
   ],
   "source": [
    "# Plot minimum temperature of Kabul\n",
    "plt.figure(figsize=(10,10))\n",
    "plt.plot(x_axis, kabul_pre, color='red')\n",
    "plt.title('Kabul_District')\n",
    "plt.xlabel('Time')\n",
    "plt.ylabel('pre of Kabul')\n"
   ]
  },
  {
   "cell_type": "markdown",
   "metadata": {},
   "source": [
    "# Correlation between precipitation and events in kabul"
   ]
  },
  {
   "cell_type": "code",
   "execution_count": 231,
   "metadata": {},
   "outputs": [],
   "source": [
    "y=kabul_pre"
   ]
  },
  {
   "cell_type": "code",
   "execution_count": 232,
   "metadata": {},
   "outputs": [
    {
     "data": {
      "text/plain": [
       "(0.0729120326705055, 0.45331134057861533)"
      ]
     },
     "execution_count": 232,
     "metadata": {},
     "output_type": "execute_result"
    }
   ],
   "source": [
    "correlation, p_value = stats.pearsonr(x, y)\n",
    "correlation, p_value"
   ]
  },
  {
   "cell_type": "code",
   "execution_count": 233,
   "metadata": {},
   "outputs": [
    {
     "data": {
      "text/plain": [
       "(-0.030835894421926073, 0.7513934791314325)"
      ]
     },
     "execution_count": 233,
     "metadata": {},
     "output_type": "execute_result"
    }
   ],
   "source": [
    "correlation, p_value = stats.spearmanr(x, y)\n",
    "correlation, p_value"
   ]
  },
  {
   "cell_type": "markdown",
   "metadata": {},
   "source": [
    "# Question 3"
   ]
  },
  {
   "cell_type": "markdown",
   "metadata": {},
   "source": [
    "# Design your hypothesis test if there is correlation/association between conflict and climate variables in each of districts"
   ]
  },
  {
   "cell_type": "markdown",
   "metadata": {},
   "source": [
    "# What are your statistical metrics to reject/accept your hypothesis?"
   ]
  },
  {
   "cell_type": "markdown",
   "metadata": {},
   "source": [
    "Correlation and p-value are my statistical metrics for the Hypothesis\n",
    "I have used Covariance and Pearson coefficient.\n",
    "\n",
    "\n",
    "Covariance:\n",
    "The sign of the covariance can be interpreted as whether the two variables change in the same direction (positive) \n",
    "or change in different directions (negative). The magnitude of the covariance is not easily interpreted.\n",
    "A covariance value of zero indicates that both variables are completely independent.\n",
    "\n",
    "\n",
    "Pearson’s Correlation:\n",
    "The Pearson correlation coefficient can be used to summarize the strength of the linear relationship between two data samples.\n",
    "The coefficient returns a value between -1 and 1 that represents the limits of correlation from a full negative correlation \n",
    "to a full positive correlation. A value of 0 means no correlation. The value must be interpreted, \n",
    "where often a value below -0.5 or above 0.5 indicates a notable correlation, and values below those values \n",
    "suggests a less notable correlation."
   ]
  },
  {
   "cell_type": "markdown",
   "metadata": {},
   "source": [
    "# What is your conclusion on the correlation/association between conflict and climate variables in each of districts given your statistical metrics"
   ]
  },
  {
   "cell_type": "markdown",
   "metadata": {},
   "source": [
    "Null Hypothesis: There is a correlation/association between conflict and climate variables in Kabul district\n",
    "Alternate Hypothesis: There is no correlation/association between conflict and climate variables in Kabul district\n",
    "\n",
    "In all the cases (max temerature, min temperature, average temperature, precipitation) the value is greater than 0.05.\n",
    "We can fail to reject the Null Hypothesis.\n",
    "\n",
    "Secondly, Covariance correlation and Pearson correlation coefficient are around zero.\n",
    "\n",
    "Hence, There is no correlation between conflict and climate variables in Kabul district"
   ]
  },
  {
   "cell_type": "markdown",
   "metadata": {},
   "source": [
    "Future Work:\n",
    "We can run regression between conflict and climate variables in Kabul district to find out relation between those two variables.\n",
    "We can find trend and seasonality of the temperature and precipitation and do regression."
   ]
  },
  {
   "cell_type": "markdown",
   "metadata": {},
   "source": [
    "# Reference:\n",
    "1. https://help.ceda.ac.uk/article/4728-cru-data-python-example\n",
    "2. https://machinelearningmastery.com/how-to-use-correlation-to-understand-the-relationship-between-variables/\n",
    "3. Stackoverflow"
   ]
  }
 ],
 "metadata": {
  "colab": {
   "name": "Vivekpandian_Veerapandian_Rhombus.ipynb",
   "provenance": []
  },
  "kernelspec": {
   "display_name": "Python 3",
   "language": "python",
   "name": "python3"
  },
  "language_info": {
   "codemirror_mode": {
    "name": "ipython",
    "version": 3
   },
   "file_extension": ".py",
   "mimetype": "text/x-python",
   "name": "python",
   "nbconvert_exporter": "python",
   "pygments_lexer": "ipython3",
   "version": "3.7.1"
  }
 },
 "nbformat": 4,
 "nbformat_minor": 1
}
